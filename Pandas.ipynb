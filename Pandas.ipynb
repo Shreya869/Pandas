{
 "cells": [
  {
   "cell_type": "code",
   "execution_count": 2,
   "metadata": {},
   "outputs": [
    {
     "name": "stdout",
     "output_type": "stream",
     "text": [
      "   Name  Age  Salary\n",
      "0  BIll   28    2000\n",
      "1   dan   29    2500\n",
      "2  Tony   31    2100\n",
      "3  Mark   27    2200\n"
     ]
    }
   ],
   "source": [
    "import pandas as pd\n",
    "#Using Python dictionary prepare data\n",
    "data={'Name':['BIll','dan','Tony','Mark'], 'Age':[28,29,31,27],'Salary':[2000,2500,2100,2200]}\n",
    "obj=pd.DataFrame(data)\n",
    "print(obj)"
   ]
  },
  {
   "cell_type": "code",
   "execution_count": 4,
   "metadata": {},
   "outputs": [
    {
     "name": "stdout",
     "output_type": "stream",
     "text": [
      "0    28\n",
      "1    29\n",
      "2    31\n",
      "3    27\n",
      "Name: Age, dtype: int64\n"
     ]
    }
   ],
   "source": [
    "#Prints data of a specific column\n",
    "print(obj['Age'])\n",
    "#Or\n",
    "#print(obj.Age)\n"
   ]
  },
  {
   "cell_type": "code",
   "execution_count": 5,
   "metadata": {},
   "outputs": [
    {
     "name": "stdout",
     "output_type": "stream",
     "text": [
      "Index(['Name', 'Age', 'Salary'], dtype='object')\n"
     ]
    }
   ],
   "source": [
    "print(obj.columns)"
   ]
  },
  {
   "cell_type": "code",
   "execution_count": 6,
   "metadata": {},
   "outputs": [
    {
     "name": "stdout",
     "output_type": "stream",
     "text": [
      "[['BIll' 28 2000]\n",
      " ['dan' 29 2500]\n",
      " ['Tony' 31 2100]\n",
      " ['Mark' 27 2200]]\n"
     ]
    }
   ],
   "source": [
    "#REturns data as a 2D array\n",
    "print(obj.values)"
   ]
  },
  {
   "cell_type": "code",
   "execution_count": 11,
   "metadata": {},
   "outputs": [
    {
     "name": "stdout",
     "output_type": "stream",
     "text": [
      "   Name  Age  Salary\n",
      "0  BIll   28    2000\n",
      "2  Tony   31    2100\n",
      "3  Mark   27    2200\n",
      "   Name  Salary\n",
      "0  BIll    2000\n",
      "1   dan    2500\n",
      "2  Tony    2100\n",
      "3  Mark    2200\n"
     ]
    }
   ],
   "source": [
    "#Drops a specific row\n",
    "print(obj.drop(1))\n",
    "#Drops a specific COlumn\n",
    "print(obj.drop('Age', axis=1))"
   ]
  },
  {
   "cell_type": "code",
   "execution_count": 12,
   "metadata": {},
   "outputs": [
    {
     "name": "stdout",
     "output_type": "stream",
     "text": [
      "      Name  Age  Salary\n",
      "emp1  BIll   28    2000\n",
      "emp2   dan   29    2500\n",
      "emp3  Tony   31    2100\n",
      "emp4  Mark   27    2200\n"
     ]
    }
   ],
   "source": [
    "#Indexing and selection  \n",
    "#Gives specified indexing to your rows\n",
    "data=pd.DataFrame(data, index=['emp1','emp2','emp3','emp4'])\n",
    "print(data)"
   ]
  },
  {
   "cell_type": "code",
   "execution_count": 14,
   "metadata": {},
   "outputs": [
    {
     "name": "stdout",
     "output_type": "stream",
     "text": [
      "      Age  Name\n",
      "emp1   28  BIll\n",
      "emp2   29   dan\n",
      "emp3   31  Tony\n",
      "emp4   27  Mark\n",
      "      Age  Name\n",
      "emp1   28  BIll\n",
      "emp2   29   dan\n",
      "emp3   31  Tony\n",
      "emp4   27  Mark\n",
      "      Name  Age\n",
      "emp1  BIll   28\n",
      "emp2   dan   29\n",
      "emp3  Tony   31\n",
      "emp4  Mark   27\n"
     ]
    }
   ],
   "source": [
    "#INdexing Format \n",
    "#data[rows, column]\n",
    "\n",
    "#1.COlumn Selection\n",
    "\n",
    "#If we know the column name\n",
    "print(data[['Age','Name']])\n",
    "print(data.loc[:,['Age','Name']])\n",
    "#print(data.ix[:,['Age','Name']])\n",
    "\n",
    "#If we dont know the column name\n",
    "print(data.iloc[:,[0,1]])\n"
   ]
  },
  {
   "cell_type": "code",
   "execution_count": 21,
   "metadata": {},
   "outputs": [
    {
     "name": "stdout",
     "output_type": "stream",
     "text": [
      "      Name  Age  Salary\n",
      "emp1  BIll   28    2000\n",
      "emp2   dan   29    2500\n",
      "emp3  Tony   31    2100\n",
      "      Name  Age  Salary\n",
      "emp1  BIll   28    2000\n",
      "emp2   dan   29    2500\n"
     ]
    }
   ],
   "source": [
    "#Row Selection \n",
    "#If we know the index name\n",
    "#prints indexes 0,1,2\n",
    "print(data.loc['emp1':'emp3',:])\n",
    "\n",
    "#If we dont know the index name\n",
    "#prints indexes 0 and 1 excludes the last one\n",
    "print(data.iloc[0:2,:])"
   ]
  },
  {
   "cell_type": "code",
   "execution_count": 24,
   "metadata": {},
   "outputs": [
    {
     "name": "stdout",
     "output_type": "stream",
     "text": [
      "      Name  Age\n",
      "emp1  BIll   28\n",
      "emp2   dan   29\n",
      "emp3  Tony   31\n"
     ]
    }
   ],
   "source": [
    "#Mixed Selection\n",
    "print(data.loc['emp1':'emp3',['Name','Age']])"
   ]
  },
  {
   "cell_type": "code",
   "execution_count": 25,
   "metadata": {},
   "outputs": [
    {
     "name": "stdout",
     "output_type": "stream",
     "text": [
      "      Name  Salary\n",
      "emp1  BIll    2000\n",
      "emp3  Tony    2100\n",
      "emp4  Mark    2200\n"
     ]
    }
   ],
   "source": [
    "#Print row number 0,2,3 and column number 0 and 2\n",
    "print(data.iloc[[0,2,3],[0,2]])"
   ]
  },
  {
   "cell_type": "code",
   "execution_count": 26,
   "metadata": {},
   "outputs": [
    {
     "name": "stdout",
     "output_type": "stream",
     "text": [
      "      Name  Salary\n",
      "emp2   dan    2500\n",
      "emp3  Tony    2100\n"
     ]
    }
   ],
   "source": [
    "#FIlTERING DATA\n",
    "#Prints name and salary of those whose age is greater than 28\n",
    "print(data.loc[data.Age>28,['Name','Salary']])"
   ]
  },
  {
   "cell_type": "code",
   "execution_count": 27,
   "metadata": {},
   "outputs": [
    {
     "name": "stdout",
     "output_type": "stream",
     "text": [
      "             Age      Salary\n",
      "count   4.000000     4.00000\n",
      "mean   28.750000  2200.00000\n",
      "std     1.707825   216.02469\n",
      "min    27.000000  2000.00000\n",
      "25%    27.750000  2075.00000\n",
      "50%    28.500000  2150.00000\n",
      "75%    29.500000  2275.00000\n",
      "max    31.000000  2500.00000\n"
     ]
    }
   ],
   "source": [
    "#DESCRIPTIVE STATISTICS\n",
    "#prints multiple statistics\n",
    "print(data.describe())"
   ]
  },
  {
   "cell_type": "code",
   "execution_count": 28,
   "metadata": {},
   "outputs": [
    {
     "name": "stdout",
     "output_type": "stream",
     "text": [
      "2200.0\n"
     ]
    }
   ],
   "source": [
    "#Print mean of salaries\n",
    "print(data.loc[:,'Salary'].mean())"
   ]
  },
  {
   "cell_type": "code",
   "execution_count": 29,
   "metadata": {},
   "outputs": [
    {
     "name": "stdout",
     "output_type": "stream",
     "text": [
      "27\n"
     ]
    }
   ],
   "source": [
    "#Print minimum age of employee\n",
    "print(data.loc[:,'Age'].min())"
   ]
  },
  {
   "cell_type": "code",
   "execution_count": 32,
   "metadata": {},
   "outputs": [
    {
     "name": "stdout",
     "output_type": "stream",
     "text": [
      "     0    1    2\n",
      "3  5.6  9.2  7.4\n"
     ]
    }
   ],
   "source": [
    "#HANDLING MISSING DATA\n",
    "from numpy import NaN\n",
    "data=pd.DataFrame([[2.3,3.3,NaN],[7.5,NaN,9.8],[NaN,2.2,6.8],[5.6,9.2,7.4],[NaN,NaN,NaN]])\n",
    "\n",
    "#Filtering Missing Data\n",
    "#Drop rows with null values\n",
    "print(data.dropna())"
   ]
  },
  {
   "cell_type": "code",
   "execution_count": 33,
   "metadata": {},
   "outputs": [
    {
     "name": "stdout",
     "output_type": "stream",
     "text": [
      "     0    1    2\n",
      "0  2.3  3.3  NaN\n",
      "1  7.5  NaN  9.8\n",
      "2  NaN  2.2  6.8\n",
      "3  5.6  9.2  7.4\n"
     ]
    }
   ],
   "source": [
    "#Drop row with all null values\n",
    "print(data.dropna(how='all'))"
   ]
  },
  {
   "cell_type": "code",
   "execution_count": 38,
   "metadata": {},
   "outputs": [
    {
     "name": "stdout",
     "output_type": "stream",
     "text": [
      "     0    1    2\n",
      "0  2.3  3.3  0.0\n",
      "1  7.5  0.0  9.8\n",
      "2  0.0  2.2  6.8\n",
      "3  5.6  9.2  7.4\n",
      "4  0.0  0.0  0.0\n"
     ]
    }
   ],
   "source": [
    "#Filling Missing data\n",
    "#Fill null values with zero\n",
    "print(data.fillna(0))\n",
    "\n"
   ]
  },
  {
   "cell_type": "code",
   "execution_count": 40,
   "metadata": {},
   "outputs": [
    {
     "name": "stdout",
     "output_type": "stream",
     "text": [
      "          0    1    2\n",
      "0  2.300000  3.3  8.0\n",
      "1  7.500000  4.9  9.8\n",
      "2  5.133333  2.2  6.8\n",
      "3  5.600000  9.2  7.4\n",
      "4  5.133333  4.9  8.0\n"
     ]
    }
   ],
   "source": [
    "#Fill null values with mean\n",
    "from numpy import mean\n",
    "print(data.fillna(mean(data)))"
   ]
  },
  {
   "cell_type": "code",
   "execution_count": 41,
   "metadata": {},
   "outputs": [
    {
     "name": "stdout",
     "output_type": "stream",
     "text": [
      "     0    1    2\n",
      "0  2.3  3.3  5.5\n",
      "1  7.5  3.0  9.8\n",
      "2  2.5  2.2  6.8\n",
      "3  5.6  9.2  7.4\n",
      "4  2.5  3.0  5.5\n"
     ]
    }
   ],
   "source": [
    "#Null values for specific column\n",
    "print(data.fillna({0:2.5,1:3.0,2:5.5}))"
   ]
  },
  {
   "cell_type": "code",
   "execution_count": 44,
   "metadata": {},
   "outputs": [
    {
     "name": "stdout",
     "output_type": "stream",
     "text": [
      "   Unnamed: 0             Title  Year  Age  IMDb Rotten Tomatoes  Netflix  \\\n",
      "0           0      Breaking Bad  2008  18+   9.5             96%        1   \n",
      "1           1   Stranger Things  2016  16+   8.8             93%        1   \n",
      "2           2       Money Heist  2017  18+   8.4             91%        1   \n",
      "3           3          Sherlock  2010  16+   9.1             78%        1   \n",
      "4           4  Better Call Saul  2015  18+   8.7             97%        1   \n",
      "\n",
      "   Hulu  Prime Video  Disney+  type  \n",
      "0     0            0        0     1  \n",
      "1     0            0        0     1  \n",
      "2     0            0        0     1  \n",
      "3     0            0        0     1  \n",
      "4     0            0        0     1  \n"
     ]
    }
   ],
   "source": [
    "#Reading and writing files\n",
    "#Read CSV File\n",
    "data=pd.read_csv('tv_shows.csv')\n",
    "#Print top 5 rows\n",
    "print(data.head())\n",
    "#Saves the dataframe to a csv file\n",
    "pd.DataFrame(data).to_csv('myfile.csv')"
   ]
  }
 ],
 "metadata": {
  "kernelspec": {
   "display_name": "Python 3",
   "language": "python",
   "name": "python3"
  },
  "language_info": {
   "codemirror_mode": {
    "name": "ipython",
    "version": 3
   },
   "file_extension": ".py",
   "mimetype": "text/x-python",
   "name": "python",
   "nbconvert_exporter": "python",
   "pygments_lexer": "ipython3",
   "version": "3.7.6"
  }
 },
 "nbformat": 4,
 "nbformat_minor": 4
}
